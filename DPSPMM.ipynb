{
 "cells": [
  {
   "cell_type": "code",
   "execution_count": 1,
   "id": "e4078fa3-f370-4246-a3d0-fbe8ffdc63b4",
   "metadata": {},
   "outputs": [
    {
     "name": "stdout",
     "output_type": "stream",
     "text": [
      "########## Compiling\n",
      "\u001b[1mlab/simple.cpp:1129:13: \u001b[0m\u001b[0;1;35mwarning: \u001b[0m\u001b[1m'/*' within block comment [-Wcomment]\u001b[0m\n",
      "            /*spmv2=spMV_pThread_dynamic(j);\n",
      "\u001b[0;1;32m            ^\n",
      "\u001b[0m1 warning generated.\n",
      "\u001b[1mlab/simple.cpp:1129:13: \u001b[0m\u001b[0;1;35mwarning: \u001b[0m\u001b[1m'/*' within block comment [-Wcomment]\u001b[0m\n",
      "            /*spmv2=spMV_pThread_dynamic(j);\n",
      "\u001b[0;1;32m            ^\n",
      "\u001b[0m1 warning generated.\n",
      "########## Done\n"
     ]
    }
   ],
   "source": [
    "! chmod 755 compile_c.sh; ./compile_c.sh;"
   ]
  },
  {
   "cell_type": "code",
   "execution_count": 2,
   "id": "a356489c-d93e-49ba-8b62-584b30856930",
   "metadata": {},
   "outputs": [
    {
     "name": "stdout",
     "output_type": "stream",
     "text": [
      "Job has been submitted to Intel(R) DevCloud with  nodes and will execute soon.\n",
      "\n",
      " If you do not see result in 60 seconds, please restart the Jupyter kernel:\n",
      " Kernel -> 'Restart Kernel and Clear All Outputs...' and then try again\n",
      "\n",
      "qsub: script not a file\n",
      "Job ID                    Name             User            Time Use S Queue\n",
      "------------------------- ---------------- --------------- -------- - -----\n",
      "2102739.v-qsvr-1           ...ub-singleuser u173967         00:01:42 R jupyterhub     \n",
      "\n",
      "Waiting for Output ████████████████████████████████████████████████████████████\n",
      "\n",
      "TimeOut 60 seconds: Job is still queued for execution, check for output file later (run.sh.o)\n",
      "\n"
     ]
    }
   ],
   "source": [
    "# ! chmod 755 q; chmod 755 run.sh;if [ -x \"$(command -v qsub)\" ]; then ./q run.sh; else ./run.sh; fi"
   ]
  },
  {
   "cell_type": "code",
   "execution_count": 5,
   "id": "556d98be-b92a-43b7-8ea6-e9f521c4b372",
   "metadata": {},
   "outputs": [
    {
     "name": "stdout",
     "output_type": "stream",
     "text": [
      "/bin/bash: ./run.sh: binbash: bad interpreter: No such file or directory\n"
     ]
    }
   ],
   "source": [
    "# !./run.sh"
   ]
  },
  {
   "cell_type": "code",
   "execution_count": 7,
   "id": "89b82485-708a-473e-a1c5-489b64de46af",
   "metadata": {},
   "outputs": [
    {
     "name": "stdout",
     "output_type": "stream",
     "text": [
      "Job has been submitted to Intel(R) DevCloud with  nodes and will execute soon.\n",
      "\n",
      " If you do not see result in 60 seconds, please restart the Jupyter kernel:\n",
      " Kernel -> 'Restart Kernel and Clear All Outputs...' and then try again\n",
      "\n",
      "Job ID                    Name             User            Time Use S Queue\n",
      "------------------------- ---------------- --------------- -------- - -----\n",
      "2102739.v-qsvr-1           ...ub-singleuser u173967         00:01:56 R jupyterhub     \n",
      "2102757.v-qsvr-1           launch.sh        u173967                0 Q batch          \n",
      "\n",
      "Waiting for Output ████████████████████████████████████████████████████ Done⬇\n",
      "\n",
      "########################################################################\n",
      "#      Date:           Fri 23 Dec 2022 07:42:02 AM PST\n",
      "#    Job ID:           2102757.v-qsvr-1.aidevcloud\n",
      "#      User:           u173967\n",
      "# Resources:           cput=75:00:00,neednodes=2:gpu:ppn=2,nodes=2:gpu:ppn=2,walltime=06:00:00\n",
      "########################################################################\n",
      "\n",
      "## u173967 is executing\n",
      "矩阵规模 4096  运行时间\n",
      "serial:          0.138298\n",
      "spmm_sse:        0.134165\n",
      "spmm_avx:        1.89175e+272\n",
      "spmm_static1:    0.116238\n",
      "spmm_openmp_static0.122932\n",
      "spmm_pthread_sse:0.116957\n",
      "spmm_open_static_sse0.09297\n",
      "spmm_pthread_avx:1.49202e+195\n",
      "spmm_open_static_avx4.26234e+180\n",
      "spmm_dynamic:    0.115536\n",
      "spmm_openmp_dynamic0.086345\n",
      "spmm_dynamic_sse:0.115486\n",
      "spmm_open_dyna_sse0.128047\n",
      "spmm_dynamic_avx:1.46857e+224\n",
      "spmm_open_dyna_avx4.26234e+180\n",
      "矩阵规模 4096  运行时间\n",
      "serial:          0.134201\n",
      "spmm_sse:        0.139246\n",
      "spmm_avx:        1.89175e+272\n",
      "spmm_static1:    0.116024\n",
      "spmm_openmp_static0.111523\n",
      "spmm_pthread_sse:0.116955\n",
      "spmm_open_static_sse0.112923\n",
      "spmm_pthread_avx:1.49202e+195\n",
      "spmm_open_static_avx4.26234e+180\n",
      "spmm_dynamic:    0.113712\n",
      "spmm_openmp_dynamic0.10657\n",
      "spmm_dynamic_sse:0.108063\n",
      "spmm_open_dyna_sse0.114858\n",
      "spmm_dynamic_avx:1.46857e+224\n",
      "spmm_open_dyna_avx4.26234e+180\n",
      "矩阵规模 4096  运行时间\n",
      "serial:          0.137789\n",
      "spmm_sse:        0.133085\n",
      "spmm_avx:        1.89175e+272\n",
      "spmm_static1:    0.114582\n",
      "spmm_openmp_static0.147148\n",
      "spmm_pthread_sse:0.117388\n",
      "spmm_open_static_sse0.14261\n",
      "spmm_pthread_avx:1.49202e+195\n",
      "spmm_open_static_avx4.26234e+180\n",
      "spmm_dynamic:    0.115595\n",
      "spmm_openmp_dynamic0.100923\n",
      "spmm_dynamic_sse:0.117021\n",
      "spmm_open_dyna_sse0.075778\n",
      "spmm_dynamic_avx:1.46857e+224\n",
      "spmm_open_dyna_avx4.26234e+180\n",
      "矩阵规模 4096  运行时间\n",
      "serial:          0.137099\n",
      "spmm_sse:        0.132969\n",
      "spmm_avx:        1.89175e+272\n",
      "spmm_static1:    0.107306\n",
      "spmm_openmp_static0.130636\n",
      "spmm_pthread_sse:0.118978\n",
      "spmm_open_static_sse0.115987\n",
      "spmm_pthread_avx:1.49202e+195\n",
      "spmm_open_static_avx4.26234e+180\n",
      "spmm_dynamic:    0.115592\n",
      "spmm_openmp_dynamic0.121496\n",
      "spmm_dynamic_sse:0.116947\n",
      "spmm_open_dyna_sse0.103648\n",
      "spmm_dynamic_avx:1.46857e+224\n",
      "spmm_open_dyna_avx4.26234e+180\n",
      "\n",
      "########################################################################\n",
      "# End of output for job 2102757.v-qsvr-1.aidevcloud\n",
      "# Date: Fri 23 Dec 2022 07:42:14 AM PST\n",
      "########################################################################\n",
      "\n",
      "Job Completed in 52 seconds.\n"
     ]
    }
   ],
   "source": [
    "! chmod 755 q; chmod 755 launch.sh; ./q launch.sh nodes=2:gpu:ppn=2"
   ]
  },
  {
   "cell_type": "code",
   "execution_count": null,
   "id": "e1585d2f-e7da-4263-88d1-adc28e4ca23c",
   "metadata": {},
   "outputs": [],
   "source": []
  }
 ],
 "metadata": {
  "kernelspec": {
   "display_name": "Python 3 (Intel® oneAPI 2023.0)",
   "language": "python",
   "name": "c009-intel_distribution_of_python_3_oneapi-beta05-python"
  },
  "language_info": {
   "codemirror_mode": {
    "name": "ipython",
    "version": 3
   },
   "file_extension": ".py",
   "mimetype": "text/x-python",
   "name": "python",
   "nbconvert_exporter": "python",
   "pygments_lexer": "ipython3",
   "version": "3.9.15"
  }
 },
 "nbformat": 4,
 "nbformat_minor": 5
}
