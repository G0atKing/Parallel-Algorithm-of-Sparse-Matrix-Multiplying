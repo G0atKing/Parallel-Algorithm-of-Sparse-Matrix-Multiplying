{
 "cells": [
  {
   "cell_type": "code",
   "execution_count": 1,
   "id": "e4078fa3-f370-4246-a3d0-fbe8ffdc63b4",
   "metadata": {},
   "outputs": [
    {
     "name": "stdout",
     "output_type": "stream",
     "text": [
      "########## Compiling\n",
      "icpx: \u001B[0;1;35mwarning: \u001B[0m\u001B[1muse of 'dpcpp' is deprecated and will be removed in a future release. Use 'icpx -fsycl' [-Wdeprecated]\u001B[0m\n",
      "\u001B[1mDPSPMM.cpp:883:13: \u001B[0m\u001B[0;1;35mwarning: \u001B[0m\u001B[1m'/*' within block comment [-Wcomment]\u001B[0m\n",
      "            /*spmv2=spMV_pThread_dynamic(j);\n",
      "\u001B[0;1;32m            ^\n",
      "\u001B[0m1 warning generated.\n",
      "\u001B[1mDPSPMM.cpp:883:13: \u001B[0m\u001B[0;1;35mwarning: \u001B[0m\u001B[1m'/*' within block comment [-Wcomment]\u001B[0m\n",
      "            /*spmv2=spMV_pThread_dynamic(j);\n",
      "\u001B[0;1;32m            ^\n",
      "\u001B[0m1 warning generated.\n",
      "\u001B[1mDPSPMM.cpp:883:13: \u001B[0m\u001B[0;1;35mwarning: \u001B[0m\u001B[1m'/*' within block comment [-Wcomment]\u001B[0m\n",
      "            /*spmv2=spMV_pThread_dynamic(j);\n",
      "\u001B[0;1;32m            ^\n",
      "\u001B[0m1 warning generated.\n",
      "########## Done\n"
     ]
    }
   ],
   "source": [
    "! chmod 755 compile_c.sh; ./compile_c.sh;"
   ]
  },
  {
   "cell_type": "code",
   "execution_count": 3,
   "id": "89b82485-708a-473e-a1c5-489b64de46af",
   "metadata": {},
   "outputs": [
    {
     "name": "stdout",
     "output_type": "stream",
     "text": [
      "Job has been submitted to Intel(R) DevCloud with  nodes and will execute soon.\n",
      "\n",
      " If you do not see result in 60 seconds, please restart the Jupyter kernel:\n",
      " Kernel -> 'Restart Kernel and Clear All Outputs...' and then try again\n",
      "\n",
      "Job ID                    Name             User            Time Use S Queue\n",
      "------------------------- ---------------- --------------- -------- - -----\n",
      "2106663.v-qsvr-1           ...ub-singleuser u173967         00:01:40 R jupyterhub     \n",
      "2106915.v-qsvr-1           launch.sh        u173967                0 Q batch          \n",
      "\n",
      "Waiting for Output █████████████████████ Done⬇\n",
      "\n",
      "########################################################################\n",
      "#      Date:           Tue 27 Dec 2022 08:05:17 AM PST\n",
      "#    Job ID:           2106915.v-qsvr-1.aidevcloud\n",
      "#      User:           u173967\n",
      "# Resources:           cput=75:00:00,neednodes=1:gpu:ppn=2,nodes=1:gpu:ppn=2,walltime=06:00:00\n",
      "########################################################################\n",
      "\n",
      "## u173967 is executing\n",
      "矩阵规模:4096\t线程数:4\n",
      "算法:                运行时间   加速比\n",
      "串行:                0.076516   100%\n",
      "SIMD:               0.108634   70.4347%\n",
      "pThread静态分配:     0.046447   42.7555%\n",
      "pThread动态分配:     0.047597   43.8141%\n",
      "pThread静态分配+SIMD:0.047882   44.0764%\n",
      "pThread动态分配+SIMD:0.047696   43.9052%\n",
      "openMP静态分配:      0.050102   46.12%\n",
      "openMP动态分配:      0.046438   42.7472%\n",
      "openMP静态分配+SIMD: 0.047244   43.4891%\n",
      "openMP动态分配+SIMD: 0.047456   43.6843%\n",
      "矩阵规模:4096\t线程数:8\n",
      "算法:                运行时间   加速比\n",
      "串行:                0.076921   100%\n",
      "SIMD:               0.109394   70.3156%\n",
      "pThread静态分配:     0.072968   66.702%\n",
      "pThread动态分配:     0.042754   39.0826%\n",
      "pThread静态分配+SIMD:0.093058   85.0668%\n",
      "pThread动态分配+SIMD:0.043237   39.5241%\n",
      "openMP静态分配:      0.046418   42.4319%\n",
      "openMP动态分配:      0.043796   40.0351%\n",
      "openMP静态分配+SIMD: 0.045768   41.8378%\n",
      "openMP动态分配+SIMD: 0.045537   41.6266%\n",
      "矩阵规模:4096\t线程数:16\n",
      "算法:                运行时间   加速比\n",
      "串行:                0.076343   100%\n",
      "SIMD:               0.107976   70.7037%\n",
      "pThread静态分配:     0.094373   87.4018%\n",
      "pThread动态分配:     0.043919   40.6748%\n",
      "pThread静态分配+SIMD:0.124462   115.268%\n",
      "pThread动态分配+SIMD:0.044082   40.8257%\n",
      "openMP静态分配:      0.044245   40.9767%\n",
      "openMP动态分配:      0.044146   40.885%\n",
      "openMP静态分配+SIMD: 0.043756   40.5238%\n",
      "openMP动态分配+SIMD: 0.044026   40.7739%\n",
      "\n",
      "########################################################################\n",
      "# End of output for job 2106915.v-qsvr-1.aidevcloud\n",
      "# Date: Tue 27 Dec 2022 08:05:34 AM PST\n",
      "########################################################################\n",
      "\n",
      "Job Completed in 21 seconds.\n"
     ]
    }
   ],
   "source": [
    "! chmod 755 q; chmod 755 launch.sh; ./q launch.sh nodes=1:gpu:ppn=2"
   ]
  },
  {
   "cell_type": "code",
   "execution_count": null,
   "id": "e1585d2f-e7da-4263-88d1-adc28e4ca23c",
   "metadata": {},
   "outputs": [],
   "source": []
  }
 ],
 "metadata": {
  "kernelspec": {
   "display_name": "Python 3 (Intel® oneAPI 2023.0)",
   "language": "python",
   "name": "c009-intel_distribution_of_python_3_oneapi-beta05-python"
  },
  "language_info": {
   "codemirror_mode": {
    "name": "ipython",
    "version": 3
   },
   "file_extension": ".py",
   "mimetype": "text/x-python",
   "name": "python",
   "nbconvert_exporter": "python",
   "pygments_lexer": "ipython3",
   "version": "3.9.15"
  }
 },
 "nbformat": 4,
 "nbformat_minor": 5
}
