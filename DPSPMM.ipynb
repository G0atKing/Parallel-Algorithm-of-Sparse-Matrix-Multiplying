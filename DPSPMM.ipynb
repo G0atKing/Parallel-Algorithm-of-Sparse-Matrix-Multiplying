{
 "cells": [
  {
   "cell_type": "code",
   "execution_count": 1,
   "id": "e4078fa3-f370-4246-a3d0-fbe8ffdc63b4",
   "metadata": {},
   "outputs": [
    {
     "name": "stdout",
     "output_type": "stream",
     "text": [
      "########## Compiling\n",
      "icpx: \u001B[0;1;35mwarning: \u001B[0m\u001B[1muse of 'dpcpp' is deprecated and will be removed in a future release. Use 'icpx -fsycl' [-Wdeprecated]\u001B[0m\n",
      "########## Done\n"
     ]
    }
   ],
   "source": [
    "! chmod 755 compile_c.sh; ./compile_c.sh;"
   ]
  },
  {
   "cell_type": "code",
   "execution_count": 2,
   "id": "89b82485-708a-473e-a1c5-489b64de46af",
   "metadata": {},
   "outputs": [
    {
     "name": "stdout",
     "output_type": "stream",
     "text": [
      "Job has been submitted to Intel(R) DevCloud with  nodes and will execute soon.\n",
      "\n",
      " If you do not see result in 60 seconds, please restart the Jupyter kernel:\n",
      " Kernel -> 'Restart Kernel and Clear All Outputs...' and then try again\n",
      "\n",
      "Job ID                    Name             User            Time Use S Queue\n",
      "------------------------- ---------------- --------------- -------- - -----\n",
      "2111283.v-qsvr-1           ...ub-singleuser u173967         00:00:55 R jupyterhub     \n",
      "2111349.v-qsvr-1           launch.sh        u173967                0 Q batch          \n",
      "\n",
      "Waiting for Output ████████████████████ Done⬇\n",
      "\n",
      "########################################################################\n",
      "#      Date:           Sat 31 Dec 2022 12:31:16 AM PST\n",
      "#    Job ID:           2111349.v-qsvr-1.aidevcloud\n",
      "#      User:           u173967\n",
      "# Resources:           cput=75:00:00,neednodes=1:gpu:ppn=2,nodes=1:gpu:ppn=2,walltime=06:00:00\n",
      "########################################################################\n",
      "\n",
      "## u173967 is executing\n",
      "矩阵规模:4096\t线程数:4\n",
      "算法:                运行时间   加速比\n",
      "串行:                0.076993   100%\n",
      "SIMD:               0.109562   142.301%\n",
      "pThread静态分配:     0.046225   60.0379%\n",
      "pThread动态分配:     0.046576   60.4938%\n",
      "pThread静态分配+SIMD:0.047752   62.0212%\n",
      "pThread动态分配+SIMD:0.047629   61.8615%\n",
      "openMP静态分配:      0.049847   64.7422%\n",
      "openMP动态分配:      0.045932   59.6574%\n",
      "openMP静态分配+SIMD: 0.046991   61.0328%\n",
      "openMP动态分配+SIMD: 0.047023   61.0744%\n",
      "矩阵规模:4096\t线程数:8\n",
      "算法:                运行时间   加速比\n",
      "串行:                0.079536   100%\n",
      "SIMD:               0.108797   136.79%\n",
      "pThread静态分配:     0.042692   53.6763%\n",
      "pThread动态分配:     0.042891   53.9265%\n",
      "pThread静态分配+SIMD:0.04355   54.7551%\n",
      "pThread动态分配+SIMD:0.043495   54.6859%\n",
      "openMP静态分配:      0.044575   56.0438%\n",
      "openMP动态分配:      0.043141   54.2408%\n",
      "openMP静态分配+SIMD: 0.043009   54.0749%\n",
      "openMP动态分配+SIMD: 0.043337   54.4873%\n",
      "矩阵规模:4096\t线程数:16\n",
      "算法:                运行时间   加速比\n",
      "串行:                0.077162   100%\n",
      "SIMD:               0.109744   142.225%\n",
      "pThread静态分配:     0.043945   56.9516%\n",
      "pThread动态分配:     0.043845   56.822%\n",
      "pThread静态分配+SIMD:0.043957   56.9672%\n",
      "pThread动态分配+SIMD:0.04394   56.9451%\n",
      "openMP静态分配:      0.043891   56.8816%\n",
      "openMP动态分配:      0.043572   56.4682%\n",
      "openMP静态分配+SIMD: 0.043432   56.2868%\n",
      "openMP动态分配+SIMD: 0.043642   56.5589%\n",
      "\n",
      "########################################################################\n",
      "# End of output for job 2111349.v-qsvr-1.aidevcloud\n",
      "# Date: Sat 31 Dec 2022 12:31:33 AM PST\n",
      "########################################################################\n",
      "\n",
      "Job Completed in 20 seconds.\n"
     ]
    }
   ],
   "source": [
    "! chmod 755 q; chmod 755 launch.sh; ./q launch.sh nodes=1:gpu:ppn=2"
   ]
  },
  {
   "cell_type": "code",
   "execution_count": null,
   "id": "e1585d2f-e7da-4263-88d1-adc28e4ca23c",
   "metadata": {},
   "outputs": [],
   "source": []
  }
 ],
 "metadata": {
  "kernelspec": {
   "display_name": "Python 3 (Intel® oneAPI 2023.0)",
   "language": "python",
   "name": "c009-intel_distribution_of_python_3_oneapi-beta05-python"
  },
  "language_info": {
   "codemirror_mode": {
    "name": "ipython",
    "version": 3
   },
   "file_extension": ".py",
   "mimetype": "text/x-python",
   "name": "python",
   "nbconvert_exporter": "python",
   "pygments_lexer": "ipython3",
   "version": "3.9.15"
  }
 },
 "nbformat": 4,
 "nbformat_minor": 5
}
