{
 "cells": [
  {
   "cell_type": "code",
   "execution_count": 3,
   "id": "e4078fa3-f370-4246-a3d0-fbe8ffdc63b4",
   "metadata": {},
   "outputs": [
    {
     "name": "stdout",
     "output_type": "stream",
     "text": [
      "########## Compiling\n",
      "icpx: \u001b[0;1;35mwarning: \u001b[0m\u001b[1muse of 'dpcpp' is deprecated and will be removed in a future release. Use 'icpx -fsycl' [-Wdeprecated]\u001b[0m\n",
      "########## Done\n"
     ]
    }
   ],
   "source": [
    "! chmod 755 compile_c.sh; ./compile_c.sh;"
   ]
  },
  {
   "cell_type": "code",
   "execution_count": 4,
   "id": "89b82485-708a-473e-a1c5-489b64de46af",
   "metadata": {},
   "outputs": [
    {
     "name": "stdout",
     "output_type": "stream",
     "text": [
      "Job has been submitted to Intel(R) DevCloud with  nodes and will execute soon.\n",
      "\n",
      " If you do not see result in 60 seconds, please restart the Jupyter kernel:\n",
      " Kernel -> 'Restart Kernel and Clear All Outputs...' and then try again\n",
      "\n",
      "Job ID                    Name             User            Time Use S Queue\n",
      "------------------------- ---------------- --------------- -------- - -----\n",
      "2107424.v-qsvr-1           ...ub-singleuser u173967         00:00:27 R jupyterhub     \n",
      "2107491.v-qsvr-1           launch.sh        u173967                0 Q batch          \n",
      "\n",
      "Waiting for Output ███████████ Done⬇\n",
      "\n",
      "########################################################################\n",
      "#      Date:           Tue 27 Dec 2022 11:15:51 PM PST\n",
      "#    Job ID:           2107491.v-qsvr-1.aidevcloud\n",
      "#      User:           u173967\n",
      "# Resources:           cput=75:00:00,neednodes=1:gpu:ppn=2,nodes=1:gpu:ppn=2,walltime=06:00:00\n",
      "########################################################################\n",
      "\n",
      "## u173967 is executing\n",
      "矩阵规模:4096\t线程数:4\n",
      "算法:                运行时间   加速比\n",
      "串行:                0.076028   100%\n",
      "SIMD:               0.107963   70.4204%\n",
      "pThread静态分配:     0.04647   43.0425%\n",
      "pThread动态分配:     0.046548   43.1148%\n",
      "pThread静态分配+SIMD:0.047882   44.3504%\n",
      "pThread动态分配+SIMD:0.047519   44.0142%\n",
      "openMP静态分配:      0.050306   46.5956%\n",
      "openMP动态分配:      0.04596   42.5701%\n",
      "openMP静态分配+SIMD: 0.047141   43.664%\n",
      "openMP动态分配+SIMD: 0.046993   43.5269%\n",
      "矩阵规模:4096\t线程数:8\n",
      "算法:                运行时间   加速比\n",
      "串行:                0.07765   100%\n",
      "SIMD:               0.110465   70.2938%\n",
      "pThread静态分配:     0.074031   67.0176%\n",
      "pThread动态分配:     0.043523   39.3998%\n",
      "pThread静态分配+SIMD:0.09455   85.5927%\n",
      "pThread动态分配+SIMD:0.043714   39.5727%\n",
      "openMP静态分配:      0.043213   39.1192%\n",
      "openMP动态分配:      0.042987   38.9146%\n",
      "openMP静态分配+SIMD: 0.043257   39.159%\n",
      "openMP动态分配+SIMD: 0.043545   39.4197%\n",
      "矩阵规模:4096\t线程数:16\n",
      "算法:                运行时间   加速比\n",
      "串行:                0.077086   100%\n",
      "SIMD:               0.109493   70.4027%\n",
      "pThread静态分配:     0.094204   86.0366%\n",
      "pThread动态分配:     0.043776   39.9806%\n",
      "pThread静态分配+SIMD:0.1231   112.427%\n",
      "pThread动态分配+SIMD:0.043794   39.9971%\n",
      "openMP静态分配:      0.044436   40.5834%\n",
      "openMP动态分配:      0.043751   39.9578%\n",
      "openMP静态分配+SIMD: 0.043447   39.6802%\n",
      "openMP动态分配+SIMD: 0.043628   39.8455%\n",
      "\n",
      "########################################################################\n",
      "# End of output for job 2107491.v-qsvr-1.aidevcloud\n",
      "# Date: Tue 27 Dec 2022 11:15:57 PM PST\n",
      "########################################################################\n",
      "\n",
      "Job Completed in 11 seconds.\n"
     ]
    }
   ],
   "source": [
    "! chmod 755 q; chmod 755 launch.sh; ./q launch.sh nodes=1:gpu:ppn=2"
   ]
  },
  {
   "cell_type": "code",
   "execution_count": null,
   "id": "e1585d2f-e7da-4263-88d1-adc28e4ca23c",
   "metadata": {},
   "outputs": [],
   "source": []
  }
 ],
 "metadata": {
  "kernelspec": {
   "display_name": "Python 3 (Intel® oneAPI 2023.0)",
   "language": "python",
   "name": "c009-intel_distribution_of_python_3_oneapi-beta05-python"
  },
  "language_info": {
   "codemirror_mode": {
    "name": "ipython",
    "version": 3
   },
   "file_extension": ".py",
   "mimetype": "text/x-python",
   "name": "python",
   "nbconvert_exporter": "python",
   "pygments_lexer": "ipython3",
   "version": "3.9.15"
  }
 },
 "nbformat": 4,
 "nbformat_minor": 5
}
